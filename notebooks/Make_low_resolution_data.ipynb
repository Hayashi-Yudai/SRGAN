{
 "cells": [
  {
   "cell_type": "code",
   "execution_count": 1,
   "id": "a44fc849",
   "metadata": {},
   "outputs": [],
   "source": [
    "import glob\n",
    "import os\n",
    "import matplotlib.pyplot as plt\n",
    "import numpy as np\n",
    "from PIL import Image, ImageFilter"
   ]
  },
  {
   "cell_type": "markdown",
   "id": "f04aa2e2",
   "metadata": {},
   "source": [
    "## ImageNet"
   ]
  },
  {
   "cell_type": "code",
   "execution_count": 2,
   "id": "f0d1b3a2",
   "metadata": {},
   "outputs": [
    {
     "data": {
      "text/plain": [
       "['../datasets/imagenet/high_resolution/val_5385.JPEG',\n",
       " '../datasets/imagenet/high_resolution/val_2869.JPEG',\n",
       " '../datasets/imagenet/high_resolution/val_2807.JPEG',\n",
       " '../datasets/imagenet/high_resolution/val_2163.JPEG',\n",
       " '../datasets/imagenet/high_resolution/val_3646.JPEG']"
      ]
     },
     "execution_count": 2,
     "metadata": {},
     "output_type": "execute_result"
    }
   ],
   "source": [
    "images = glob.glob(\"../datasets/imagenet/high_resolution/*.JPEG\")\n",
    "images[:5]"
   ]
  },
  {
   "cell_type": "code",
   "execution_count": 3,
   "id": "6ae2c2e0",
   "metadata": {},
   "outputs": [],
   "source": [
    "img = Image.open(images[0])\n",
    "img = img.filter(ImageFilter.GaussianBlur(3.0))\n",
    "img = img.resize((16, 16))"
   ]
  },
  {
   "cell_type": "code",
   "execution_count": 4,
   "id": "be3e0ee0",
   "metadata": {},
   "outputs": [
    {
     "data": {
      "text/plain": [
       "(16, 16)"
      ]
     },
     "execution_count": 4,
     "metadata": {},
     "output_type": "execute_result"
    }
   ],
   "source": [
    "img.size"
   ]
  },
  {
   "cell_type": "code",
   "execution_count": 8,
   "id": "3f9a0560",
   "metadata": {},
   "outputs": [],
   "source": [
    "for img_file in images:\n",
    "    img = Image.open(img_file)\n",
    "    if len(np.array(img).shape) != 3:\n",
    "        os.remove(img_file)\n",
    "        continue\n",
    "    img = img.filter(ImageFilter.GaussianBlur(3.0))\n",
    "    img = img.resize((16, 16))\n",
    "    \n",
    "    img.save(img_file.replace(\"high\", \"low\"))"
   ]
  },
  {
   "cell_type": "markdown",
   "id": "2137db32",
   "metadata": {},
   "source": [
    "## CelebA"
   ]
  },
  {
   "cell_type": "code",
   "execution_count": 4,
   "id": "110ecef1",
   "metadata": {},
   "outputs": [
    {
     "data": {
      "text/plain": [
       "['../datasets/celeb/high_resolution/012523.jpg',\n",
       " '../datasets/celeb/high_resolution/006594.jpg',\n",
       " '../datasets/celeb/high_resolution/013689.jpg',\n",
       " '../datasets/celeb/high_resolution/016835.jpg',\n",
       " '../datasets/celeb/high_resolution/001159.jpg']"
      ]
     },
     "execution_count": 4,
     "metadata": {},
     "output_type": "execute_result"
    }
   ],
   "source": [
    "images = glob.glob(\"../datasets/celeb/high_resolution/*.jpg\")\n",
    "images[:5]"
   ]
  },
  {
   "cell_type": "code",
   "execution_count": 5,
   "id": "031da7fa",
   "metadata": {},
   "outputs": [],
   "source": [
    "img = Image.open(images[0])\n",
    "img = img.filter(ImageFilter.GaussianBlur(3.0))\n",
    "img = img.resize((32, 32))"
   ]
  },
  {
   "cell_type": "code",
   "execution_count": 6,
   "id": "7ef42575",
   "metadata": {},
   "outputs": [
    {
     "data": {
      "image/png": "[encoded data removed]",
      "text/plain": [
       "<Figure size 432x288 with 1 Axes>"
      ]
     },
     "metadata": {
      "needs_background": "light"
     },
     "output_type": "display_data"
    }
   ],
   "source": [
    "plt.imshow(img)\n",
    "plt.show()"
   ]
  },
  {
   "cell_type": "code",
   "execution_count": 7,
   "id": "8211a5c4",
   "metadata": {},
   "outputs": [],
   "source": [
    "for img_file in images:\n",
    "    img = Image.open(img_file)\n",
    "    if len(np.array(img).shape) != 3:\n",
    "        os.remove(img_file)\n",
    "        continue\n",
    "    img = img.filter(ImageFilter.GaussianBlur(3.0))\n",
    "    img = img.resize((32, 32))\n",
    "    \n",
    "    img.save(img_file.replace(\"high\", \"low\"))"
   ]
  },
  {
   "cell_type": "code",
   "execution_count": null,
   "id": "cb6ae943",
   "metadata": {},
   "outputs": [],
   "source": []
  }
 ],
 "metadata": {
  "kernelspec": {
   "display_name": "Python 3",
   "language": "python",
   "name": "python3"
  },
  "language_info": {
   "codemirror_mode": {
    "name": "ipython",
    "version": 3
   },
   "file_extension": ".py",
   "mimetype": "text/x-python",
   "name": "python",
   "nbconvert_exporter": "python",
   "pygments_lexer": "ipython3",
   "version": "3.9.6"
  },
  "toc": {
   "base_numbering": 1,
   "nav_menu": {},
   "number_sections": true,
   "sideBar": true,
   "skip_h1_title": false,
   "title_cell": "Table of Contents",
   "title_sidebar": "Contents",
   "toc_cell": false,
   "toc_position": {},
   "toc_section_display": true,
   "toc_window_display": false
  }
 },
 "nbformat": 4,
 "nbformat_minor": 5
}
